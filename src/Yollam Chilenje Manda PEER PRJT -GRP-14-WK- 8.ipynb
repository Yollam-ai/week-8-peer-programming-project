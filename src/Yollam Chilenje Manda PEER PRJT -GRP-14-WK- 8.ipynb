{
 "cells": [
  {
   "cell_type": "code",
   "execution_count": 1,
   "metadata": {},
   "outputs": [],
   "source": [
    "#To create a DataFrame from the list of dictionaries, you can use the pandas.DataFrame() function as follows\n",
    "import pandas as pd\n",
    "\n",
    "data = [{'product_id':23, 'name':'computer', 'wholesale_price': 500, 'retail_price':1000, 'sales':100}, \n",
    "        {'product_id':96, 'name':'Python Workout', 'wholesale_price': 35,'retail_price':75, 'sales':1000},\n",
    "        {'product_id':97, 'name':'Pandas Workout', 'wholesale_price': 35, 'retail_price':75, 'sales':500},\n",
    "        {'product_id':15, 'name':'banana', 'wholesale_price': 0.5,'retail_price':1, 'sales':200},\n",
    "        {'product_id':87, 'name':'sandwich', 'wholesale_price': 3,'retail_price':5, 'sales':300}]\n",
    "df = pd.DataFrame(data)\n",
    "\n",
    "#To calculate the total profit for each product, you can create a new column 'net_revenue_per_product' in the dataframe and then use the formula\n",
    "df[\"net_revenue_per_product\"] = (df[\"retail_price\"] - df[\"wholesale_price\"]) * df[\"sales\"]\n",
    "\n",
    "#To determine the total net revenue, you can use the sum() function on the 'net_revenue_per_product' column\n",
    "total_net_revenue = df[\"net_revenue_per_product\"].sum()\n",
    "\n",
    "#To find the product whose retail price is more than twice the wholesale price, you can use the following code\n",
    "df[df[\"retail_price\"] > (2 * df[\"wholesale_price\"])]\n",
    "\n",
    "#To find the total net revenue from food, computers and books, you can use the groupby() function and the sum() function\n",
    "df.groupby(\"name\")[\"net_revenue_per_product\"].sum()\n",
    "\n",
    "#To calculate the new net revenue with 30% discount on wholesale price, you can use the following code\n",
    "df[\"net_revenue_per_product_discount\"] = (df[\"retail_price\"] - (df[\"wholesale_price\"] * 0.7)) * df[\"sales\"]\n",
    "\n",
    "\n",
    "\n",
    "\n"
   ]
  }
 ],
 "metadata": {
  "kernelspec": {
   "display_name": "Python 3",
   "language": "python",
   "name": "python3"
  },
  "language_info": {
   "codemirror_mode": {
    "name": "ipython",
    "version": 3
   },
   "file_extension": ".py",
   "mimetype": "text/x-python",
   "name": "python",
   "nbconvert_exporter": "python",
   "pygments_lexer": "ipython3",
   "version": "3.10.9 (tags/v3.10.9:1dd9be6, Dec  6 2022, 20:01:21) [MSC v.1934 64 bit (AMD64)]"
  },
  "orig_nbformat": 4,
  "vscode": {
   "interpreter": {
    "hash": "8c4d50a6998a2f1084a18776ec503a9c7f52231d1a6a8fa96384cc17d13eef44"
   }
  }
 },
 "nbformat": 4,
 "nbformat_minor": 2
}
